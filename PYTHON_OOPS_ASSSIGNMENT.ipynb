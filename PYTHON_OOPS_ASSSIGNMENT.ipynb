{
  "nbformat": 4,
  "nbformat_minor": 0,
  "metadata": {
    "colab": {
      "provenance": [],
      "authorship_tag": "ABX9TyPuoBgJMRdsCLIyru4EvhxS",
      "include_colab_link": true
    },
    "kernelspec": {
      "name": "python3",
      "display_name": "Python 3"
    },
    "language_info": {
      "name": "python"
    }
  },
  "cells": [
    {
      "cell_type": "markdown",
      "metadata": {
        "id": "view-in-github",
        "colab_type": "text"
      },
      "source": [
        "<a href=\"https://colab.research.google.com/github/akifnawab038/assingnment/blob/main/PYTHON_OOPS_ASSSIGNMENT.ipynb\" target=\"_parent\"><img src=\"https://colab.research.google.com/assets/colab-badge.svg\" alt=\"Open In Colab\"/></a>"
      ]
    },
    {
      "cell_type": "markdown",
      "source": [
        "# PYTHON ASSIGNMENT:\n",
        "#OOPS"
      ],
      "metadata": {
        "id": "f-Jn9U7WUSp-"
      }
    },
    {
      "cell_type": "code",
      "source": [],
      "metadata": {
        "id": "5GPwXb5NUcVO"
      },
      "execution_count": null,
      "outputs": []
    },
    {
      "cell_type": "markdown",
      "source": [
        "**1. What are the five key concepts of Object-Oriented Programming (OOP)?**"
      ],
      "metadata": {
        "id": "l8Knjm7kUe7Y"
      }
    },
    {
      "cell_type": "markdown",
      "source": [
        "The five key concepts of Object-Oriented Programming (OOP) are:\n",
        "\n",
        "1. **Encapsulation:** This concept involves bundling data and the methods that operate on it together into a single unit, known as an object. This helps to protect data from external access and modification, and it promotes code reusability.\n",
        "\n",
        "2. **Inheritance:** This concept allows you to create new classes (derived classes) based on existing classes (base classes). Derived classes inherit the properties and methods of the base class, but they can also add new ones or modify existing ones. This helps to reduce code redundancy and improve code maintainability.\n",
        "\n",
        "3. **Polymorphism:** This concept allows objects of different classes to be treated as if they were of the same type. This can be achieved through method overriding, where a derived class provides a different implementation of a method inherited from the base class, or through method overloading, where a class has multiple methods with the same name but different parameters. Polymorphism makes code more flexible and easier to understand.\n",
        "\n",
        "4. **Abstraction:** This concept involves focusing on the essential features of an object and ignoring the irrelevant details. This helps to simplify complex problems and make code more manageable. Abstraction is often achieved through the use of abstract classes and interfaces.\n",
        "\n",
        "5. **Modularity:** This concept involves breaking down a large program into smaller, more manageable units, known as modules. This helps to improve code organization, reusability, and maintainability. Modules can be implemented as classes, functions, or other programming constructs.\n"
      ],
      "metadata": {
        "id": "YTEX9g0dU28Q"
      }
    },
    {
      "cell_type": "code",
      "source": [],
      "metadata": {
        "id": "M1LPViNEUwck"
      },
      "execution_count": null,
      "outputs": []
    },
    {
      "cell_type": "markdown",
      "source": [
        "**2. Write a Python class for a `Car` with attributes for `make`, `model`, and `year`. Include a method to display\n",
        "the car's information**"
      ],
      "metadata": {
        "id": "8jtiErYRVCMB"
      }
    },
    {
      "cell_type": "code",
      "source": [
        "class Car:\n",
        "    def __init__(self, make, model, year):\n",
        "        self.make = make\n",
        "        self.model = model\n",
        "        self.year = year\n",
        "\n",
        "    def display_info(self):\n",
        "        print(f\"Make: {self.make}\")\n",
        "        print(f\"Model: {self.model}\")\n",
        "        print(f\"Year: {self.year}\")"
      ],
      "metadata": {
        "id": "Rwd34SxhVEuM"
      },
      "execution_count": null,
      "outputs": []
    },
    {
      "cell_type": "code",
      "source": [
        "my_car = Car(\"Toyota\", \"Camry\", 2023)\n",
        "my_car.display_info()"
      ],
      "metadata": {
        "colab": {
          "base_uri": "https://localhost:8080/"
        },
        "id": "dIvTw22rVSdD",
        "outputId": "c2db0619-96cb-43a6-cfa8-e1847c2d9a39"
      },
      "execution_count": null,
      "outputs": [
        {
          "output_type": "stream",
          "name": "stdout",
          "text": [
            "Make: Toyota\n",
            "Model: Camry\n",
            "Year: 2023\n"
          ]
        }
      ]
    },
    {
      "cell_type": "code",
      "source": [],
      "metadata": {
        "id": "UROBilqLVV9Z"
      },
      "execution_count": null,
      "outputs": []
    },
    {
      "cell_type": "markdown",
      "source": [
        "**3. Explain the difference between instance methods and class methods. Provide an example of each.**"
      ],
      "metadata": {
        "id": "aQa6QJN0Xuun"
      }
    },
    {
      "cell_type": "markdown",
      "source": [
        "**Instance Methods:**\n",
        "\n",
        "- Belong to individual objects.\n",
        "- Have access to the object's instance\n",
        "  variables.\n",
        "- Use self as the first parameter to access the instance variables."
      ],
      "metadata": {
        "id": "R-gWqzmsX9nw"
      }
    },
    {
      "cell_type": "code",
      "source": [
        "class Dog:\n",
        "    def __init__(self, name, breed):\n",
        "        self.name = name\n",
        "        self.breed = breed\n",
        "\n",
        "    def bark(self):\n",
        "        print(f\"{self.name} is barking!\")"
      ],
      "metadata": {
        "id": "71HwHYxfXwtJ"
      },
      "execution_count": null,
      "outputs": []
    },
    {
      "cell_type": "code",
      "source": [
        "d = Dog(\"inkki pinkey ponkey\", \"Golden Retriever\")\n",
        "d.bark()"
      ],
      "metadata": {
        "colab": {
          "base_uri": "https://localhost:8080/"
        },
        "id": "dqV2up6LYOvR",
        "outputId": "7b4008c7-bab3-4d4f-cb81-188fc8edfc25"
      },
      "execution_count": null,
      "outputs": [
        {
          "output_type": "stream",
          "name": "stdout",
          "text": [
            "inkki pinkey ponkey is barking!\n"
          ]
        }
      ]
    },
    {
      "cell_type": "markdown",
      "source": [
        "**Class Methods:**\n",
        "\n",
        "- Belong to the class itself.\n",
        "- Do not have access to instance\n",
        "  variables.\n",
        "- Use the @classmethod decorator.\n",
        "-  Are typically used for factory  \n",
        "   methods or utility functions."
      ],
      "metadata": {
        "id": "H3p3eeqDYd6H"
      }
    },
    {
      "cell_type": "code",
      "source": [
        "class Dog:\n",
        "    def __init__(self, name, breed):\n",
        "        self.name = name\n",
        "        self.breed = breed\n",
        "\n",
        "    @classmethod\n",
        "    def from_string(cls, dog_string):\n",
        "        name, breed = dog_string.split()\n",
        "        return cls(name, breed)"
      ],
      "metadata": {
        "id": "DDwK0fcUYS9w"
      },
      "execution_count": null,
      "outputs": []
    },
    {
      "cell_type": "code",
      "source": [],
      "metadata": {
        "id": "_LSffP26Y2Ca"
      },
      "execution_count": null,
      "outputs": []
    },
    {
      "cell_type": "markdown",
      "source": [
        "**4. How does Python implement method overloading? Give an example**"
      ],
      "metadata": {
        "id": "-uy32kmWZ7XY"
      }
    },
    {
      "cell_type": "markdown",
      "source": [
        "**Python does not directly support method overloading.** Unlike languages like C++ or Java, Python doesn't allow multiple functions with the same name but different parameter lists within the same class.\n",
        "\n",
        "However, there are a few ways to achieve similar functionality in Python:\n",
        "\n",
        "**1. Default Arguments:**\n",
        "\n",
        "- You can use default arguments to create methods that behave differently based on the number of arguments provided."
      ],
      "metadata": {
        "id": "eDL4E3i9aG1_"
      }
    },
    {
      "cell_type": "code",
      "source": [
        "class Calculator:\n",
        "    def add(self, x, y, z=0):\n",
        "        return x + y + z"
      ],
      "metadata": {
        "id": "a5KV9w7qaBA0"
      },
      "execution_count": null,
      "outputs": []
    },
    {
      "cell_type": "code",
      "source": [
        "c = Calculator()\n",
        "result = c.add(2, 3, 9)\n",
        "print(result)"
      ],
      "metadata": {
        "colab": {
          "base_uri": "https://localhost:8080/"
        },
        "id": "LwixP4znaUCA",
        "outputId": "f330d901-6c0f-4f18-d793-c055fb02bd61"
      },
      "execution_count": null,
      "outputs": [
        {
          "output_type": "stream",
          "name": "stdout",
          "text": [
            "14\n"
          ]
        }
      ]
    },
    {
      "cell_type": "code",
      "source": [],
      "metadata": {
        "id": "Pgy5lsscaW-2"
      },
      "execution_count": null,
      "outputs": []
    },
    {
      "cell_type": "markdown",
      "source": [
        "**5. What are the three types of access modifiers in Python? How are they denoted?**"
      ],
      "metadata": {
        "id": "r_NEnvYRacpM"
      }
    },
    {
      "cell_type": "markdown",
      "source": [
        "**Python has three types of access modifiers:**\n",
        "\n",
        "1. **Public:**\n",
        "   * **No special keyword** is used to denote public access.\n",
        "   * All attributes and methods are public by default in Python unless explicitly made private.\n",
        "   * Public members can be accessed from anywhere within the class or outside of it.\n",
        "\n",
        "2. **Protected:**\n",
        "   * **`_` (single underscore):** Attributes or methods prefixed with a single underscore are considered protected.\n",
        "   * Protected members are intended for internal use within the class and its subclasses.\n",
        "   * They can be accessed from within the class, its subclasses, and modules within the same package.\n",
        "\n",
        "3. **Private:**\n",
        "   * **`__` (double underscore):** Attributes or methods prefixed with double underscores are considered private.\n",
        "   * Private members are strictly intended for internal use within the class and cannot be accessed directly from outside the class.\n",
        "   * However, they can be accessed indirectly through public methods or properties.\n",
        "\n",
        "**Note:** While Python doesn't have strict enforcement of access modifiers like some other languages, the conventions of using single and double underscores provide guidelines for intended usage and help maintain code organization.\n"
      ],
      "metadata": {
        "id": "jALv14I7albQ"
      }
    },
    {
      "cell_type": "code",
      "source": [],
      "metadata": {
        "id": "IRBMkU8DafL1"
      },
      "execution_count": null,
      "outputs": []
    },
    {
      "cell_type": "markdown",
      "source": [
        "**6. Describe the five types of inheritance in Python. Provide a simple example of multiple inheritance.**"
      ],
      "metadata": {
        "id": "K3fYaJp2aqw-"
      }
    },
    {
      "cell_type": "markdown",
      "source": [
        "Five Types of Inheritance in Python\n",
        "Python supports five types of inheritance:\n",
        "\n",
        "**1. Single Inheritance:**\n",
        "\n",
        "A class inherits from a single parent class.\n",
        "\n",
        "**2. Multiple Inheritance:**\n",
        "\n",
        "A class inherits from multiple parent classes.\n",
        "\n",
        "**3. Multilevel Inheritance:**\n",
        "\n",
        "A class inherits from a class that itself inherits from another class.\n",
        "\n",
        "**4. Hierarchical Inheritance:**\n",
        "\n",
        "Multiple classes inherit from a single parent class.\n",
        "\n",
        "**5. Hybrid Inheritance:**\n",
        "\n",
        "A combination of multiple, multilevel, and hierarchical inheritance."
      ],
      "metadata": {
        "id": "n_gRKTNga4XX"
      }
    },
    {
      "cell_type": "code",
      "source": [
        "class Animal:\n",
        "    def __init__(self, name):\n",
        "        self.name = name\n",
        "\n",
        "    def speak(self):\n",
        "        pass\n",
        "\n",
        "class Dog(Animal):\n",
        "    def speak(self):\n",
        "        print(\"Woof!\")\n",
        "\n",
        "class Cat(Animal):\n",
        "    def speak(self):\n",
        "        print(\"Meow!\")\n",
        "\n",
        "class DogCat(Dog, Cat):\n",
        "    pass\n",
        "\n",
        "\n",
        "dogcat = DogCat(\"Fluffy\")\n",
        "\n",
        "dogcat.speak()"
      ],
      "metadata": {
        "colab": {
          "base_uri": "https://localhost:8080/"
        },
        "id": "DwrLW4hQau_D",
        "outputId": "907bfd65-ef5d-42ee-cea0-c8e7498a840d"
      },
      "execution_count": null,
      "outputs": [
        {
          "output_type": "stream",
          "name": "stdout",
          "text": [
            "Woof!\n"
          ]
        }
      ]
    },
    {
      "cell_type": "code",
      "source": [],
      "metadata": {
        "id": "Twql6eDEbY9s"
      },
      "execution_count": null,
      "outputs": []
    },
    {
      "cell_type": "markdown",
      "source": [
        "**7. What is the Method Resolution Order (MRO) in Python? How can you retrieve it programmatically?**"
      ],
      "metadata": {
        "id": "cDi5Y3fLb-nP"
      }
    },
    {
      "cell_type": "markdown",
      "source": [
        "**Method Resolution Order (MRO)** in Python determines the order in which methods are searched for when calling them on an instance of a class. It's particularly important in multiple inheritance scenarios to ensure the correct method is invoked.\n",
        "\n",
        "**How MRO is calculated:**\n",
        "\n",
        "- Python uses a C3 linearization algorithm to determine the MRO.\n",
        "\n",
        "- The algorithm ensures that the MRO is consistent and avoids the \"diamond problem\" where a class has multiple paths to a common ancestor."
      ],
      "metadata": {
        "id": "2MzWs086bbud"
      }
    },
    {
      "cell_type": "code",
      "source": [
        "class A:\n",
        "    pass\n",
        "\n",
        "class B(A):\n",
        "    pass\n",
        "\n",
        "class C(A):\n",
        "    pass\n",
        "\n",
        "class D(B, C):\n",
        "    pass\n",
        "\n",
        "print(D.__mro__)"
      ],
      "metadata": {
        "colab": {
          "base_uri": "https://localhost:8080/"
        },
        "id": "8_Y6nvTvb9aR",
        "outputId": "24c55297-3bd8-4cf8-9480-3c2ebf4efef1"
      },
      "execution_count": null,
      "outputs": [
        {
          "output_type": "stream",
          "name": "stdout",
          "text": [
            "(<class '__main__.D'>, <class '__main__.B'>, <class '__main__.C'>, <class '__main__.A'>, <class 'object'>)\n"
          ]
        }
      ]
    },
    {
      "cell_type": "markdown",
      "source": [
        "**8. Create an abstract base class `Shape` with an abstract method `area()`. Then create two subclasses\n",
        "`Circle` and `Rectangle` that implement the `area()` method.**"
      ],
      "metadata": {
        "id": "xxQ2ItbJFKXZ"
      }
    },
    {
      "cell_type": "code",
      "source": [
        "class Shape:\n",
        "    def area(self):\n",
        "        raise NotImplementedError(\"Abstract method area() must be implemented by subclasses.\")\n",
        "\n",
        "class Circle(Shape):\n",
        "    def __init__(self, radius):\n",
        "        self.radius = radius\n",
        "\n",
        "    def area(self):\n",
        "        return 3.14159 * self.radius * self.radius\n",
        "\n",
        "class Rectangle(Shape):\n",
        "    def __init__(self, length, width):\n",
        "        self.length = length\n",
        "        self.width = width\n",
        "\n",
        "    def area(self):\n",
        "        return self.length * self.width"
      ],
      "metadata": {
        "id": "utbKBwwzcHV-"
      },
      "execution_count": null,
      "outputs": []
    },
    {
      "cell_type": "code",
      "source": [
        "circle = Circle(5)\n",
        "rectangle = Rectangle(4, 3)\n",
        "\n",
        "print(\"Circle area:\", circle.area())\n",
        "print(\"Rectangle area:\", rectangle.area())"
      ],
      "metadata": {
        "colab": {
          "base_uri": "https://localhost:8080/"
        },
        "id": "PyXSng4_FbnO",
        "outputId": "336a0d57-7b0c-4c12-866c-ea1cbcb1757e"
      },
      "execution_count": null,
      "outputs": [
        {
          "output_type": "stream",
          "name": "stdout",
          "text": [
            "Circle area: 78.53975\n",
            "Rectangle area: 12\n"
          ]
        }
      ]
    },
    {
      "cell_type": "code",
      "source": [],
      "metadata": {
        "id": "wACjHNCYFceH"
      },
      "execution_count": null,
      "outputs": []
    },
    {
      "cell_type": "markdown",
      "source": [
        "**9. Demonstrate polymorphism by creating a function that can work with different shape objects to calculate\n",
        "and print their areas.**"
      ],
      "metadata": {
        "id": "8JZ_-Y90Fht5"
      }
    },
    {
      "cell_type": "code",
      "source": [
        "def calculate_and_print_area(shape):\n",
        "    print(f\"Area of {type(shape).__name__}: {shape.area()}\")\n",
        "\n",
        "circle = Circle(5)\n",
        "rectangle = Rectangle(4, 3)\n",
        "\n",
        "calculate_and_print_area(circle)\n",
        "calculate_and_print_area(rectangle)"
      ],
      "metadata": {
        "colab": {
          "base_uri": "https://localhost:8080/"
        },
        "id": "Wj3-1VtNFjOe",
        "outputId": "63eef00e-d50a-473d-f3e0-756d480e1048"
      },
      "execution_count": null,
      "outputs": [
        {
          "output_type": "stream",
          "name": "stdout",
          "text": [
            "Area of Circle: 78.53975\n",
            "Area of Rectangle: 12\n"
          ]
        }
      ]
    },
    {
      "cell_type": "code",
      "source": [],
      "metadata": {
        "id": "7tfazlL5Frgw"
      },
      "execution_count": null,
      "outputs": []
    },
    {
      "cell_type": "markdown",
      "source": [
        "**10. Implement encapsulation in a `BankAccount` class with private attributes for `balance` and\n",
        "`account_number`. Include methods for deposit, withdrawal, and balance inquiry.**"
      ],
      "metadata": {
        "id": "RekMKTiLF4VI"
      }
    },
    {
      "cell_type": "code",
      "source": [
        "class Bank:\n",
        "  def __init__(self, balance):\n",
        "    self.__balance = balance\n",
        "  def deposit(self, amount):\n",
        "    self.__balance = self.__balance + amount\n",
        "  def withdraw(self, amount):\n",
        "    if self.__balance >= amount:\n",
        "      self.__balance = self.__balance - amount\n",
        "      return True\n",
        "    else:\n",
        "      return False\n",
        "  def get_balance(self):\n",
        "    return self.__balance"
      ],
      "metadata": {
        "id": "kEmRIRJFF9Cp"
      },
      "execution_count": null,
      "outputs": []
    },
    {
      "cell_type": "code",
      "source": [
        "b = Bank(1000)"
      ],
      "metadata": {
        "id": "s_iaEZadGRIY"
      },
      "execution_count": null,
      "outputs": []
    },
    {
      "cell_type": "code",
      "source": [
        "b.deposit(3000)"
      ],
      "metadata": {
        "id": "eREMeVUMGLhS"
      },
      "execution_count": null,
      "outputs": []
    },
    {
      "cell_type": "code",
      "source": [
        "b.get_balance()"
      ],
      "metadata": {
        "colab": {
          "base_uri": "https://localhost:8080/"
        },
        "id": "Mxfx2nb8GNpb",
        "outputId": "90dea655-66c6-439c-eef9-697f5c2fca07"
      },
      "execution_count": null,
      "outputs": [
        {
          "output_type": "execute_result",
          "data": {
            "text/plain": [
              "4000"
            ]
          },
          "metadata": {},
          "execution_count": 8
        }
      ]
    },
    {
      "cell_type": "code",
      "source": [
        "b.withdraw(2000)"
      ],
      "metadata": {
        "colab": {
          "base_uri": "https://localhost:8080/"
        },
        "id": "BmbhFs8LGYC0",
        "outputId": "7d91a417-65ae-40b9-d5e4-2cf9d8b7ac34"
      },
      "execution_count": null,
      "outputs": [
        {
          "output_type": "execute_result",
          "data": {
            "text/plain": [
              "True"
            ]
          },
          "metadata": {},
          "execution_count": 9
        }
      ]
    },
    {
      "cell_type": "code",
      "source": [
        "b.get_balance()\n"
      ],
      "metadata": {
        "colab": {
          "base_uri": "https://localhost:8080/"
        },
        "id": "dW4ZVCyoGbs6",
        "outputId": "b03cbed6-67e0-4dde-c3e7-575c134f1815"
      },
      "execution_count": null,
      "outputs": [
        {
          "output_type": "execute_result",
          "data": {
            "text/plain": [
              "2000"
            ]
          },
          "metadata": {},
          "execution_count": 10
        }
      ]
    },
    {
      "cell_type": "code",
      "source": [],
      "metadata": {
        "id": "EN_a1qyBGeFR"
      },
      "execution_count": null,
      "outputs": []
    },
    {
      "cell_type": "markdown",
      "source": [
        "**11. Write a class that overrides the `__str__` and `__add__` magic methods. What will these methods allow you to do.**"
      ],
      "metadata": {
        "id": "cqGERhpeGwUw"
      }
    },
    {
      "cell_type": "code",
      "source": [
        "class MyCustomClass:\n",
        "    def __init__(self, value):\n",
        "        self.value = value\n",
        "\n",
        "    def __str__(self):\n",
        "        return f\"MyCustomClass object with value: {self.value}\"\n",
        "\n",
        "    def __add__(self, other):\n",
        "        if isinstance(other, MyCustomClass):\n",
        "            return MyCustomClass(self.value + other.value)\n",
        "        else:\n",
        "            raise TypeError(\"Can only add MyCustomClass objects\")\n",
        "\n",
        "\n",
        "obj1 = MyCustomClass(10)\n",
        "obj2 = MyCustomClass(20)\n",
        "\n",
        "print(obj1)\n",
        "print(obj1 + obj2)"
      ],
      "metadata": {
        "colab": {
          "base_uri": "https://localhost:8080/"
        },
        "id": "zRHfiYCTG3ap",
        "outputId": "e0f1b3c5-a3ba-4dbf-e4f3-597bca598a73"
      },
      "execution_count": null,
      "outputs": [
        {
          "output_type": "stream",
          "name": "stdout",
          "text": [
            "MyCustomClass object with value: 10\n",
            "MyCustomClass object with value: 30\n"
          ]
        }
      ]
    },
    {
      "cell_type": "code",
      "source": [],
      "metadata": {
        "id": "FQ61Jt9WG3Zy"
      },
      "execution_count": null,
      "outputs": []
    },
    {
      "cell_type": "markdown",
      "source": [
        "**12. Create a decorator that measures and prints the execution time of a function.**"
      ],
      "metadata": {
        "id": "dY-sYewnHI7s"
      }
    },
    {
      "cell_type": "code",
      "source": [
        "import time\n",
        "\n",
        "def measure_time(func):\n",
        "    def wrapper(*args, **kwargs):\n",
        "        start_time = time.time()\n",
        "        result = func(*args, **kwargs)\n",
        "        end_time = time.time()\n",
        "        execution_time = end_time - start_time\n",
        "        print(f\"Function {func.__name__} executed in {execution_time:.5f} seconds\")\n",
        "        return result\n",
        "    return wrapper\n",
        "\n",
        "@measure_time\n",
        "def my_function(n):\n",
        "\n",
        "    sum = 0\n",
        "    for i in range(n):\n",
        "        sum += i\n",
        "    return sum\n",
        "\n",
        "\n",
        "result = my_function(1000000)\n",
        "print(\"Result:\", result)"
      ],
      "metadata": {
        "colab": {
          "base_uri": "https://localhost:8080/"
        },
        "id": "R7ObmzDmHOGi",
        "outputId": "157c4528-0c9d-4eea-a55f-1c9c3482dfa4"
      },
      "execution_count": null,
      "outputs": [
        {
          "output_type": "stream",
          "name": "stdout",
          "text": [
            "Function my_function executed in 0.07305 seconds\n",
            "Result: 499999500000\n"
          ]
        }
      ]
    },
    {
      "cell_type": "code",
      "source": [],
      "metadata": {
        "id": "js2ia6wgHWzs"
      },
      "execution_count": null,
      "outputs": []
    },
    {
      "cell_type": "markdown",
      "source": [
        "**13. Explain the concept of the Diamond Problem in multiple inheritance. How does Python resolve it?**"
      ],
      "metadata": {
        "id": "M3Qw4wOLHcec"
      }
    },
    {
      "cell_type": "code",
      "source": [
        "class A:\n",
        "    def method(self):\n",
        "        print(\"A's method\")\n",
        "\n",
        "class B(A):\n",
        "    pass\n",
        "\n",
        "class C(A):\n",
        "    pass\n",
        "\n",
        "class D(B, C):\n",
        "    pass"
      ],
      "metadata": {
        "id": "r8bbAv4zHf_C"
      },
      "execution_count": null,
      "outputs": []
    },
    {
      "cell_type": "code",
      "source": [],
      "metadata": {
        "id": "eEhzQTKkHf-J"
      },
      "execution_count": null,
      "outputs": []
    },
    {
      "cell_type": "markdown",
      "source": [
        "**14. Write a class method that keeps track of the number of instances created from a class.**"
      ],
      "metadata": {
        "id": "yQKW-dUVHnYw"
      }
    },
    {
      "cell_type": "code",
      "source": [
        "class MyClass:\n",
        "    instance_count = 0\n",
        "\n",
        "    def __init__(self):\n",
        "        MyClass.instance_count += 1\n",
        "\n",
        "    @classmethod\n",
        "    def get_instance_count(cls):\n",
        "        return cls.instance_count\n",
        "\n",
        "\n",
        "obj1 = MyClass()\n",
        "obj2 = MyClass()\n",
        "obj3 = MyClass()\n",
        "\n",
        "print(\"Total instances:\", MyClass.get_instance_count())"
      ],
      "metadata": {
        "colab": {
          "base_uri": "https://localhost:8080/"
        },
        "id": "TYcG1sdIHo0Y",
        "outputId": "525b5e2b-0654-4b6a-f973-52e317e05705"
      },
      "execution_count": null,
      "outputs": [
        {
          "output_type": "stream",
          "name": "stdout",
          "text": [
            "Total instances: 3\n"
          ]
        }
      ]
    },
    {
      "cell_type": "code",
      "source": [],
      "metadata": {
        "id": "gBwjp5kyHyN7"
      },
      "execution_count": null,
      "outputs": []
    },
    {
      "cell_type": "markdown",
      "source": [
        "**15. Implement a static method in a class that checks if a given year is a leap year.**"
      ],
      "metadata": {
        "id": "mrac91nNH1_s"
      }
    },
    {
      "cell_type": "code",
      "source": [
        "class Year:\n",
        "    @staticmethod\n",
        "    def is_leap_year(year):\n",
        "        if year % 4 == 0 and (year % 100 != 0 or year % 400 == 0):\n",
        "            return True\n",
        "        else:\n",
        "            return False\n",
        "\n",
        "\n",
        "year = 2024\n",
        "if Year.is_leap_year(year):\n",
        "    print(f\"{year} is a leap year\")\n",
        "else:\n",
        "    print(f\"{year} is not a leap year\")"
      ],
      "metadata": {
        "colab": {
          "base_uri": "https://localhost:8080/"
        },
        "id": "LQb0dVViH42M",
        "outputId": "6a573e98-00c3-4d2c-e802-51e6b640a080"
      },
      "execution_count": null,
      "outputs": [
        {
          "output_type": "stream",
          "name": "stdout",
          "text": [
            "2024 is a leap year\n"
          ]
        }
      ]
    },
    {
      "cell_type": "code",
      "source": [],
      "metadata": {
        "id": "ei1vbdtQH-8Y"
      },
      "execution_count": null,
      "outputs": []
    }
  ]
}