{
  "nbformat": 4,
  "nbformat_minor": 0,
  "metadata": {
    "colab": {
      "provenance": [],
      "authorship_tag": "ABX9TyPw/hQW6e58eN1V17inNoKL",
      "include_colab_link": true
    },
    "kernelspec": {
      "name": "python3",
      "display_name": "Python 3"
    },
    "language_info": {
      "name": "python"
    }
  },
  "cells": [
    {
      "cell_type": "markdown",
      "metadata": {
        "id": "view-in-github",
        "colab_type": "text"
      },
      "source": [
        "<a href=\"https://colab.research.google.com/github/akifnawab038/assingnment/blob/main/%22Assignment_1%22.ipynb\" target=\"_parent\"><img src=\"https://colab.research.google.com/assets/colab-badge.svg\" alt=\"Open In Colab\"/></a>"
      ]
    },
    {
      "cell_type": "markdown",
      "source": [
        "# ASSIGNMENT 1:"
      ],
      "metadata": {
        "id": "EZRmn7ihDZog"
      }
    },
    {
      "cell_type": "markdown",
      "source": [
        "## PYTHON BASICS:\n"
      ],
      "metadata": {
        "id": "1nFNdq0LDjGn"
      }
    },
    {
      "cell_type": "code",
      "source": [],
      "metadata": {
        "id": "0AmCQqkxDrZN"
      },
      "execution_count": null,
      "outputs": []
    },
    {
      "cell_type": "markdown",
      "source": [
        "### 1. Explain the key features of Python that make it a popular choice for programming:"
      ],
      "metadata": {
        "id": "vEibb2HhDwxf"
      }
    },
    {
      "cell_type": "markdown",
      "source": [
        "**1. Simple and Readable Syntax:**\n",
        " Python's syntax is clear and easy to read, which makes it accessible to beginners and allows experienced programmers to write code efficiently. The use of indentation to define code blocks enhances readability and reduces the chances of errors.\n",
        "\n",
        "**2. Versatility:**\n",
        " Python is a general-purpose language, meaning it can be used for a wide range of applications, from web development and data analysis to machine learning and automation. Its versatility is one of the reasons it's so widely adopted.\n",
        "\n",
        "**3. Large Standard Library:**\n",
        " Python comes with a comprehensive standard library that provides modules and functions for various tasks, such as file handling, regular expressions, and even internet protocols. This reduces the need to write code from scratch for common tasks.\n",
        "\n",
        "**4. Extensive Ecosystem of  Third-Party Libraries:**\n",
        " Beyond the standard library, Python has a vast ecosystem of third-party libraries and frameworks, such as NumPy, Pandas, TensorFlow, Django, and Flask. These libraries extend Python's capabilities and allow developers to work more efficiently in specialized areas.\n",
        "\n",
        "**5. Cross-Platform Compatibility:**\n",
        " Python is platform-independent, meaning that Python code can run on various operating systems like Windows, macOS, and Linux without modification. This makes it easier to develop and deploy applications across different environments.\n",
        "\n",
        "**6. Dynamic Typin**g:\n",
        "  Python uses dynamic typing, meaning that the type of a variable is determined at runtime, which allows for more flexibility in writing code. Developers don't need to declare variable types explicitly, which can speed up the development process."
      ],
      "metadata": {
        "id": "-74rmKOrD5wO"
      }
    },
    {
      "cell_type": "code",
      "source": [],
      "metadata": {
        "id": "2l9HUVpMEzZ-"
      },
      "execution_count": null,
      "outputs": []
    },
    {
      "cell_type": "markdown",
      "source": [
        "### 2. Describe the role of predefined keywords in Python and provide examples of how they are used in a program:"
      ],
      "metadata": {
        "id": "q9dH6ilfFFUn"
      }
    },
    {
      "cell_type": "markdown",
      "source": [
        "- predefined keywords in python are reserved words that have special meaning and cannot be used for any other purpose. They help in defining the structure and syntax of the python language.\n",
        "\n",
        "**examples:**\n",
        "\n",
        "- if, elif, else: Used for conditional statements.\n",
        "\n",
        "- for, while: used for loops.\n",
        "\n",
        "- True, False\n",
        "\n",
        "- break, continue. etc."
      ],
      "metadata": {
        "id": "3p46QmpjFObQ"
      }
    },
    {
      "cell_type": "code",
      "source": [
        "#example for predefined keywords\n",
        "a = 50\n",
        "b = 50\n",
        "if a < b:\n",
        "    print(\"b is greater than a\")\n",
        "elif a > b:\n",
        "    print(\"a is greater than b\")\n",
        "else:\n",
        "    print(\"both are equal\")"
      ],
      "metadata": {
        "colab": {
          "base_uri": "https://localhost:8080/"
        },
        "id": "4-SDW_5dFd1P",
        "outputId": "4bdcbc09-5d06-4c1f-a07e-e394ec96ecd6"
      },
      "execution_count": null,
      "outputs": [
        {
          "output_type": "stream",
          "name": "stdout",
          "text": [
            "both are equal\n"
          ]
        }
      ]
    },
    {
      "cell_type": "code",
      "source": [],
      "metadata": {
        "id": "YHNCGliYFg5J"
      },
      "execution_count": null,
      "outputs": []
    },
    {
      "cell_type": "markdown",
      "source": [
        "### 3.Mutable and immutable objects."
      ],
      "metadata": {
        "id": "qwwvp8fvFpAH"
      }
    },
    {
      "cell_type": "markdown",
      "source": [
        "- **Mutable objects:**  Objects that can be changed after their creation.\n",
        "- **immutable objects:**  Objects that can be changed once they are created."
      ],
      "metadata": {
        "id": "Gckt_NBeFuXn"
      }
    },
    {
      "cell_type": "code",
      "source": [
        "#example for mutable objects:\n",
        "c = [ 1, 2, 3, 3.5, \"akif\", True]\n",
        "c[0] = 4\n",
        "c"
      ],
      "metadata": {
        "colab": {
          "base_uri": "https://localhost:8080/"
        },
        "id": "bCvOxcXCF1hT",
        "outputId": "35b48bcd-9a7c-4fb1-9edf-7e5a06296e63"
      },
      "execution_count": null,
      "outputs": [
        {
          "output_type": "execute_result",
          "data": {
            "text/plain": [
              "[4, 2, 3, 3.5, 'akif', True]"
            ]
          },
          "metadata": {},
          "execution_count": 4
        }
      ]
    },
    {
      "cell_type": "code",
      "source": [
        "#example for immutable objects:\n",
        "d = \"MD AKIF NAWAB\"\n",
        "d[0] = W\n"
      ],
      "metadata": {
        "colab": {
          "base_uri": "https://localhost:8080/",
          "height": 193
        },
        "id": "z61Ip_PFGDL3",
        "outputId": "d57da1bf-7b15-495f-d73b-4c3e38b1658b"
      },
      "execution_count": null,
      "outputs": [
        {
          "output_type": "error",
          "ename": "NameError",
          "evalue": "name 'W' is not defined",
          "traceback": [
            "\u001b[0;31m---------------------------------------------------------------------------\u001b[0m",
            "\u001b[0;31mNameError\u001b[0m                                 Traceback (most recent call last)",
            "\u001b[0;32m<ipython-input-5-b0af9974d768>\u001b[0m in \u001b[0;36m<cell line: 3>\u001b[0;34m()\u001b[0m\n\u001b[1;32m      1\u001b[0m \u001b[0;31m#example for immutable objects:\u001b[0m\u001b[0;34m\u001b[0m\u001b[0;34m\u001b[0m\u001b[0m\n\u001b[1;32m      2\u001b[0m \u001b[0md\u001b[0m \u001b[0;34m=\u001b[0m \u001b[0;34m\"MD AKIF NAWAB\"\u001b[0m\u001b[0;34m\u001b[0m\u001b[0;34m\u001b[0m\u001b[0m\n\u001b[0;32m----> 3\u001b[0;31m \u001b[0md\u001b[0m\u001b[0;34m[\u001b[0m\u001b[0;36m0\u001b[0m\u001b[0;34m]\u001b[0m \u001b[0;34m=\u001b[0m \u001b[0mW\u001b[0m\u001b[0;34m\u001b[0m\u001b[0;34m\u001b[0m\u001b[0m\n\u001b[0m\u001b[1;32m      4\u001b[0m \u001b[0;34m\u001b[0m\u001b[0m\n",
            "\u001b[0;31mNameError\u001b[0m: name 'W' is not defined"
          ]
        }
      ]
    },
    {
      "cell_type": "code",
      "source": [],
      "metadata": {
        "id": "vpyhbnGHGFYh"
      },
      "execution_count": null,
      "outputs": []
    },
    {
      "cell_type": "markdown",
      "source": [
        "### 4. Discuss the different types of operators in Python and provide examples of howthey are used."
      ],
      "metadata": {
        "id": "oVCbS-V2QqzX"
      }
    },
    {
      "cell_type": "markdown",
      "source": [
        "- In Python, operators are special symbols or keywords used to perform operations on variables and values. They are the foundation of most operations you perform in your code, ranging from simple arithmetic to more complex logic and manipulation.\n",
        "\n",
        "- **Arithmetic Operators:** +, -, *, /, %, **, //\n",
        "\n",
        "- **Comparison Operators:** ==, !=, >, <, >=, <=\n",
        "\n",
        "- **Logical Operators:** and, or, not\n",
        "\n",
        "- **Bitwise Operators:** &, |, ^, ~, <<, >>\n",
        "\n",
        "- **Assignment Operators:** =, +=, -=, *=, /=, %=, **=, //=\n",
        "\n",
        "- **Identity Operators:** is, is not\n",
        "\n",
        "- **Membership Operators:** in, not in"
      ],
      "metadata": {
        "id": "tCeV2WQRQ6Hz"
      }
    },
    {
      "cell_type": "code",
      "source": [
        "# example for arithemetic operators:\n",
        "e = 5\n",
        "f = 10\n",
        "print(e+f)"
      ],
      "metadata": {
        "colab": {
          "base_uri": "https://localhost:8080/"
        },
        "id": "2p--KDLZRRJk",
        "outputId": "e51e7b65-8346-4e40-b511-dcba2931e793"
      },
      "execution_count": 6,
      "outputs": [
        {
          "output_type": "stream",
          "name": "stdout",
          "text": [
            "15\n"
          ]
        }
      ]
    },
    {
      "cell_type": "code",
      "source": [
        "# example for comperision operator:\n",
        "10 > 6"
      ],
      "metadata": {
        "colab": {
          "base_uri": "https://localhost:8080/"
        },
        "id": "ZMHOUXpbRV0r",
        "outputId": "a9eb5201-f9c2-4fe3-c90c-0623c3dec2c9"
      },
      "execution_count": 7,
      "outputs": [
        {
          "output_type": "execute_result",
          "data": {
            "text/plain": [
              "True"
            ]
          },
          "metadata": {},
          "execution_count": 7
        }
      ]
    },
    {
      "cell_type": "code",
      "source": [
        "# example for logical operator:\n",
        "print(True|False)"
      ],
      "metadata": {
        "colab": {
          "base_uri": "https://localhost:8080/"
        },
        "id": "MBGeyIevRYDY",
        "outputId": "c01990c5-72c3-49e2-fc06-46ad34c90fc4"
      },
      "execution_count": 8,
      "outputs": [
        {
          "output_type": "stream",
          "name": "stdout",
          "text": [
            "True\n"
          ]
        }
      ]
    },
    {
      "cell_type": "code",
      "source": [
        "#example for assignment operator:\n",
        "x = 5\n",
        "x+=5\n",
        "print(x)"
      ],
      "metadata": {
        "colab": {
          "base_uri": "https://localhost:8080/"
        },
        "id": "0feoq493Ra0d",
        "outputId": "45476dd1-805d-4247-a45b-5c0af9b28981"
      },
      "execution_count": 9,
      "outputs": [
        {
          "output_type": "stream",
          "name": "stdout",
          "text": [
            "10\n"
          ]
        }
      ]
    },
    {
      "cell_type": "markdown",
      "source": [
        "### 5. type casting in python:"
      ],
      "metadata": {
        "id": "P4A6sTJoRnJ4"
      }
    },
    {
      "cell_type": "markdown",
      "source": [
        "- Type casting in Python refers to the process of converting a variable from one data type to another. It allows you to change the type of data stored in a variable to suit the needs of a particular operation or function."
      ],
      "metadata": {
        "id": "RdGvUvj-Rrgu"
      }
    },
    {
      "cell_type": "code",
      "source": [
        "#int to string:\n",
        "num = 10\n",
        "num = str(num)\n",
        "print(num)\n",
        "type(num)"
      ],
      "metadata": {
        "colab": {
          "base_uri": "https://localhost:8080/"
        },
        "id": "LcZADfqURs0q",
        "outputId": "e8840d11-99f1-4c2a-867b-b50e30de2a20"
      },
      "execution_count": 10,
      "outputs": [
        {
          "output_type": "stream",
          "name": "stdout",
          "text": [
            "10\n"
          ]
        },
        {
          "output_type": "execute_result",
          "data": {
            "text/plain": [
              "str"
            ]
          },
          "metadata": {},
          "execution_count": 10
        }
      ]
    },
    {
      "cell_type": "code",
      "source": [
        "#string to int:\n",
        "name = \"9\"\n",
        "name = int(name)\n",
        "print(name)\n",
        "type(name)"
      ],
      "metadata": {
        "colab": {
          "base_uri": "https://localhost:8080/"
        },
        "id": "9Ey9Ei8MRvDi",
        "outputId": "e8d52626-da4c-433f-aa58-c450fa7daaca"
      },
      "execution_count": 11,
      "outputs": [
        {
          "output_type": "stream",
          "name": "stdout",
          "text": [
            "9\n"
          ]
        },
        {
          "output_type": "execute_result",
          "data": {
            "text/plain": [
              "int"
            ]
          },
          "metadata": {},
          "execution_count": 11
        }
      ]
    },
    {
      "cell_type": "markdown",
      "source": [
        "### 6. Conditional Statements in Python:"
      ],
      "metadata": {
        "id": "jO53fkLDRzyp"
      }
    },
    {
      "cell_type": "markdown",
      "source": [
        "- Conditional statements in Python allow you to execute specific blocks of code depending on whether certain conditions are met. These statements control the flow of execution in a program by using conditions that evaluate to either True or False.\n",
        "\n",
        "**Key Conditional Statements:**\n",
        "\n",
        "1. 'if' Statement\n",
        "2. 'elif' (else if) Statement\n",
        "3. 'else' Statement"
      ],
      "metadata": {
        "id": "mIv9kiJkR3BO"
      }
    },
    {
      "cell_type": "code",
      "source": [
        "#example for conditional statement:\n",
        "weather = \"cool\"\n",
        "if weather == \"rainy\":\n",
        "    print(\"i will not go to ground\")\n",
        "elif weather == \"sunny\":\n",
        "    print(\"i will go to ground\")\n",
        "else:\n",
        "    print(\"i will stay in home\")\n",
        ""
      ],
      "metadata": {
        "colab": {
          "base_uri": "https://localhost:8080/"
        },
        "id": "zO8BldMBSApB",
        "outputId": "f854cb38-297d-4753-dc9c-ad09ce5e80a9"
      },
      "execution_count": 12,
      "outputs": [
        {
          "output_type": "stream",
          "name": "stdout",
          "text": [
            "i will stay in home\n"
          ]
        }
      ]
    },
    {
      "cell_type": "markdown",
      "source": [
        "### 7. types of loops with examples"
      ],
      "metadata": {
        "id": "ZezKm4uBSE7K"
      }
    },
    {
      "cell_type": "markdown",
      "source": [
        "- loops in Python allow you to execute a block of code repeatedly, either for a specific number of times or until a certain condition is met. There are two primary types of loops in Python:\n",
        "\n",
        "- 'for' Loop\n",
        "\n",
        "- 'while' Loop\n",
        "\n",
        "1. **for Loop:**\n",
        "The for loop is used to iterate over a sequence (such as a list, tuple, dictionary, set, or string) or other iterable objects. It allows you to execute a block of code once for each item in the sequence.\n",
        "\n",
        "2. **while loop:**\n",
        "A while loop in Python is used to repeatedly execute a block of code as long as a specified condition remains True. It is a control flow statement that allows for iterative execution based on a condition. The condition is checked before each iteration, and if it evaluates to True, the code block inside the loop is executed. If the condition becomes False, the loop terminates, and the program continues with the next statement following the loop."
      ],
      "metadata": {
        "id": "2PdQ3ROSSICa"
      }
    },
    {
      "cell_type": "code",
      "source": [
        "#example for \"for\" loop:\n",
        "for i in range(5):\n",
        "    print(i)\n"
      ],
      "metadata": {
        "colab": {
          "base_uri": "https://localhost:8080/"
        },
        "id": "8eQz7rceSXOb",
        "outputId": "2ffbd88a-6483-4cfe-c5d1-a549205cb129"
      },
      "execution_count": 13,
      "outputs": [
        {
          "output_type": "stream",
          "name": "stdout",
          "text": [
            "0\n",
            "1\n",
            "2\n",
            "3\n",
            "4\n"
          ]
        }
      ]
    },
    {
      "cell_type": "code",
      "source": [
        "y = 6\n",
        "p = 10\n",
        "while p > y:\n",
        "    print(y)\n",
        "    y = y + 1"
      ],
      "metadata": {
        "colab": {
          "base_uri": "https://localhost:8080/"
        },
        "id": "qdI5siF4Sdzt",
        "outputId": "02c37bf8-f9a4-41ea-bfaa-f4a2b2af8ba3"
      },
      "execution_count": 14,
      "outputs": [
        {
          "output_type": "stream",
          "name": "stdout",
          "text": [
            "6\n",
            "7\n",
            "8\n",
            "9\n"
          ]
        }
      ]
    },
    {
      "cell_type": "code",
      "source": [],
      "metadata": {
        "id": "s9SHYWqNSf6s"
      },
      "execution_count": null,
      "outputs": []
    }
  ]
}